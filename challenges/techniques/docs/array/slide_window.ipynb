{
 "cells": [
  {
   "cell_type": "code",
   "execution_count": null,
   "id": "initial_id",
   "metadata": {
    "collapsed": true
   },
   "outputs": [],
   "source": [
    ""
   ]
  },
  {
   "metadata": {},
   "cell_type": "markdown",
   "source": "### Direct way",
   "id": "2c2d006d9e6f04b2"
  },
  {
   "metadata": {
    "ExecuteTime": {
     "end_time": "2024-06-18T19:32:41.025299Z",
     "start_time": "2024-06-18T19:29:45.821881Z"
    }
   },
   "cell_type": "code",
   "source": [
    "def max_sum_subarray(arr, k):\n",
    "    # Calculate the size of arr\n",
    "    n = len(arr)\n",
    "    if n < k:\n",
    "        return \"The size of the array is smaller than k\"\n",
    "\n",
    "    # Calculate the sum of the first window\n",
    "    max_sum = sum(arr[:k])\n",
    "    window_sum = max_sum\n",
    "\n",
    "    # Slide the window across the array\n",
    "    for i in range(n - k):\n",
    "        window_sum = window_sum - arr[i] + arr[i + k]\n",
    "        max_sum = max(max_sum, window_sum)\n",
    "\n",
    "    return max_sum\n",
    "\n",
    "# Example usage\n",
    "arr = [2, 1, 5, 1, 3, 2]\n",
    "k = 3\n",
    "print(\"The maximum sum of a subarray of size {} is {}\".format(k, max_sum_subarray(arr, k)))"
   ],
   "id": "b13e655d51e097bf",
   "outputs": [
    {
     "name": "stdout",
     "output_type": "stream",
     "text": [
      "The maximum sum of a subarray of size 3 is 9\n"
     ]
    }
   ],
   "execution_count": 1
  },
  {
   "metadata": {},
   "cell_type": "markdown",
   "source": "## Direct way 2",
   "id": "bb0505edd3b9d75a"
  },
  {
   "metadata": {
    "ExecuteTime": {
     "end_time": "2024-06-18T19:36:34.085672Z",
     "start_time": "2024-06-18T19:36:34.070416Z"
    }
   },
   "cell_type": "code",
   "source": [
    "array = [10,15,-7,80,12]\n",
    "windowSize = 3\n",
    "\n",
    "for startIndex in range(len(array)-windowSize+1):\n",
    "  windowSum = sum(array[startIndex:startIndex + windowSize])\n",
    "  print(windowSum)"
   ],
   "id": "7a4e63b44aaa2873",
   "outputs": [
    {
     "name": "stdout",
     "output_type": "stream",
     "text": [
      "18\n",
      "88\n",
      "85\n"
     ]
    }
   ],
   "execution_count": 2
  },
  {
   "metadata": {},
   "cell_type": "markdown",
   "source": "### Way 3",
   "id": "af99298de39de619"
  },
  {
   "metadata": {},
   "cell_type": "code",
   "outputs": [],
   "execution_count": null,
   "source": [
    "array = [10,15,-7,80,12]\n",
    "windowSize = 3\n",
    "\n",
    "windowSum = sum(array[i] for i in range(windowSize))\n",
    "print(windowSum) # Initial window\n",
    "for startIndex in range(1, len(array)-windowSize+1):\n",
    "  windowSum -= array[startIndex-1]\n",
    "  windowSum += array[startIndex + windowSize - 1]\n",
    "  print(windowSum)"
   ],
   "id": "5471d65bb88eeecc"
  }
 ],
 "metadata": {
  "kernelspec": {
   "display_name": "Python 3",
   "language": "python",
   "name": "python3"
  },
  "language_info": {
   "codemirror_mode": {
    "name": "ipython",
    "version": 2
   },
   "file_extension": ".py",
   "mimetype": "text/x-python",
   "name": "python",
   "nbconvert_exporter": "python",
   "pygments_lexer": "ipython2",
   "version": "2.7.6"
  }
 },
 "nbformat": 4,
 "nbformat_minor": 5
}
