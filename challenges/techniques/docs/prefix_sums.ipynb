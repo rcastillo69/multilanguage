{
 "cells": [
  {
   "cell_type": "code",
   "execution_count": null,
   "id": "initial_id",
   "metadata": {
    "collapsed": true
   },
   "outputs": [],
   "source": [
    ""
   ]
  },
  {
   "metadata": {},
   "cell_type": "markdown",
   "source": "### Prefix Sums",
   "id": "52f653b6ca45884f"
  },
  {
   "metadata": {
    "ExecuteTime": {
     "end_time": "2024-06-18T20:00:37.656514Z",
     "start_time": "2024-06-18T20:00:37.645178Z"
    }
   },
   "cell_type": "code",
   "source": [
    "def max_sum_subarray(arr, k):\n",
    "    n = len(arr)\n",
    "    if n < k:\n",
    "        return \"The size of the array is smaller than k\"\n",
    "\n",
    "    # Compute the prefix sums\n",
    "    prefix = [0] * n\n",
    "    prefix[0] = arr[0]\n",
    "    for i in range(1, n):\n",
    "        prefix[i] = prefix[i-1] + arr[i]\n",
    "\n",
    "    # Find the maximum sum of a subarray of length k\n",
    "    max_sum = prefix[k-1]\n",
    "    for i in range(k, n):\n",
    "        max_sum = max(max_sum, prefix[i] - prefix[i-k])\n",
    "\n",
    "    return max_sum\n",
    "\n",
    "# Example usage\n",
    "arr = [2, 3, 8, -1, 5, 4, 2]\n",
    "k = 3\n",
    "print(\"The maximum sum of a subarray of size {} is {}\".format(k, max_sum_subarray(arr, k)))\n"
   ],
   "id": "32432b114bb294fe",
   "outputs": [
    {
     "name": "stdout",
     "output_type": "stream",
     "text": [
      "The maximum sum of a subarray of size 3 is 13\n"
     ]
    }
   ],
   "execution_count": 5
  },
  {
   "metadata": {},
   "cell_type": "code",
   "outputs": [],
   "execution_count": null,
   "source": "",
   "id": "b9517f755fe3697c"
  }
 ],
 "metadata": {
  "kernelspec": {
   "display_name": "Python 3",
   "language": "python",
   "name": "python3"
  },
  "language_info": {
   "codemirror_mode": {
    "name": "ipython",
    "version": 2
   },
   "file_extension": ".py",
   "mimetype": "text/x-python",
   "name": "python",
   "nbconvert_exporter": "python",
   "pygments_lexer": "ipython2",
   "version": "2.7.6"
  }
 },
 "nbformat": 4,
 "nbformat_minor": 5
}
